{
 "cells": [
  {
   "cell_type": "code",
   "execution_count": 1,
   "metadata": {},
   "outputs": [],
   "source": [
    "import numpy as np\n",
    "import pandas as pd\n",
    "from sklearn.datasets import load_iris\n",
    "from sklearn.model_selection import train_test_split\n",
    "from sklearn.preprocessing import OneHotEncoder\n",
    "from pyod.models.ecod import ECOD"
   ]
  },
  {
   "cell_type": "code",
   "execution_count": 2,
   "metadata": {},
   "outputs": [],
   "source": [
    "dataset = load_iris()\n",
    "X = dataset[\"data\"]\n",
    "X_train, X_test = train_test_split(X)"
   ]
  },
  {
   "cell_type": "code",
   "execution_count": 3,
   "metadata": {},
   "outputs": [
    {
     "data": {
      "text/plain": [
       "ECOD(contamination=0.1, n_jobs=1)"
      ]
     },
     "execution_count": 3,
     "metadata": {},
     "output_type": "execute_result"
    }
   ],
   "source": [
    "detector = ECOD()\n",
    "detector.fit(X_train)"
   ]
  },
  {
   "cell_type": "code",
   "execution_count": 4,
   "metadata": {},
   "outputs": [
    {
     "data": {
      "text/plain": [
       "array([0, 0, 1, 0, 0, 0, 0, 0, 0, 0, 0, 0, 0, 0, 1, 0, 0, 0, 0, 1, 0, 0,\n",
       "       0, 0, 0, 1, 0, 0, 1, 0, 0, 0, 0, 0, 0, 0, 0, 0])"
      ]
     },
     "execution_count": 4,
     "metadata": {},
     "output_type": "execute_result"
    }
   ],
   "source": [
    "# detector.decision_function(X_test)\n",
    "detector.predict(X_test)"
   ]
  },
  {
   "cell_type": "code",
   "execution_count": 5,
   "metadata": {},
   "outputs": [],
   "source": [
    "fake_var_1 = np.random.randn(1000)\n",
    "fake_var_2 = np.random.randn(1000)\n",
    "fake_var_3 = [x for _ in range(500) for x in (\"cat1\", \"cat2\")]\n",
    "\n",
    "# contaminate with outliers\n",
    "fake_var_1[10] = 100\n",
    "fake_var_2[100] = -100\n",
    "\n",
    "fake_data = pd.DataFrame(\n",
    "    {\n",
    "        \"var_1\": fake_var_1,\n",
    "        \"var_2\": fake_var_2,\n",
    "        \"var_3\": fake_var_3\n",
    "    }\n",
    ")"
   ]
  },
  {
   "cell_type": "code",
   "execution_count": 6,
   "metadata": {},
   "outputs": [
    {
     "name": "stdout",
     "output_type": "stream",
     "text": [
      "10: 1 | 100: 1\n"
     ]
    }
   ],
   "source": [
    "fake_data_dummy = pd.get_dummies(fake_data)\n",
    "\n",
    "detector = ECOD()\n",
    "detector.fit(fake_data_dummy)\n",
    "pred = detector.predict(fake_data_dummy)\n",
    "print(f\"10: {pred[10]} | 100: {pred[100]}\")\n"
   ]
  },
  {
   "cell_type": "code",
   "execution_count": 7,
   "metadata": {},
   "outputs": [
    {
     "name": "stdout",
     "output_type": "stream",
     "text": [
      "-> 200 = 1\n",
      "-> 201 = 1\n",
      "-> 202 = 1\n",
      "-> 203 = 1\n",
      "-> 204 = 1\n",
      "-> 205 = 1\n",
      "-> 206 = 1\n",
      "-> 207 = 1\n",
      "-> 208 = 1\n",
      "-> 209 = 1\n"
     ]
    }
   ],
   "source": [
    "fake_data_2 = fake_data.copy()\n",
    "fake_data_2.loc[200:210, \"var_3\"] = \"cat3\"\n",
    "\n",
    "fake_data_dummy = pd.get_dummies(fake_data_2)\n",
    "\n",
    "detector = ECOD()\n",
    "detector.fit(fake_data_dummy)\n",
    "pred = detector.predict(fake_data_dummy)\n",
    "for i in range(10):\n",
    "    idx = 200 + i\n",
    "    print(f\"-> {idx} = {pred[idx]}\")"
   ]
  }
 ],
 "metadata": {
  "kernelspec": {
   "display_name": "base",
   "language": "python",
   "name": "python3"
  },
  "language_info": {
   "codemirror_mode": {
    "name": "ipython",
    "version": 3
   },
   "file_extension": ".py",
   "mimetype": "text/x-python",
   "name": "python",
   "nbconvert_exporter": "python",
   "pygments_lexer": "ipython3",
   "version": "3.10.11"
  },
  "orig_nbformat": 4
 },
 "nbformat": 4,
 "nbformat_minor": 2
}
